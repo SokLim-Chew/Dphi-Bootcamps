{
  "nbformat": 4,
  "nbformat_minor": 0,
  "metadata": {
    "colab": {
      "name": "Untitled1.ipynb",
      "provenance": []
    },
    "kernelspec": {
      "name": "python3",
      "display_name": "Python 3"
    },
    "language_info": {
      "name": "python"
    }
  },
  "cells": [
    {
      "cell_type": "markdown",
      "source": [
        "#Task 1"
      ],
      "metadata": {
        "id": "ndHqxYPSdw8U"
      }
    },
    {
      "cell_type": "code",
      "execution_count": 14,
      "metadata": {
        "colab": {
          "base_uri": "https://localhost:8080/"
        },
        "id": "hdHjw42qb-HP",
        "outputId": "d57cf5f1-7d19-4936-be75-a0688863c289"
      },
      "outputs": [
        {
          "output_type": "execute_result",
          "data": {
            "text/plain": [
              "('python', 'python', 'python', 'python', 'python')"
            ]
          },
          "metadata": {},
          "execution_count": 14
        }
      ],
      "source": [
        "T = (\"python\",) * 5\n",
        "T"
      ]
    },
    {
      "cell_type": "markdown",
      "source": [
        "#Task 2"
      ],
      "metadata": {
        "id": "Ojl_SPFsePxb"
      }
    },
    {
      "cell_type": "code",
      "source": [
        "s = input(\"Please input a string: \")\n",
        "l = []\n",
        "for char in s[0:len(s):2]:\n",
        "  l.append(char)\n",
        "\n",
        "print(tuple(l))\n"
      ],
      "metadata": {
        "colab": {
          "base_uri": "https://localhost:8080/"
        },
        "id": "5i8T0nYGeM-w",
        "outputId": "7c7354c0-2d7a-41be-a057-8ade5bdb6af8"
      },
      "execution_count": 12,
      "outputs": [
        {
          "output_type": "stream",
          "name": "stdout",
          "text": [
            "Please input a string: python\n",
            "('p', 't', 'o')\n"
          ]
        }
      ]
    },
    {
      "cell_type": "markdown",
      "source": [
        "#Task 3"
      ],
      "metadata": {
        "id": "nq1As-c8hAPT"
      }
    },
    {
      "cell_type": "code",
      "source": [
        "elements = [5, 7, 4, 9, 2]\n",
        "print(sum(elements)/len(elements))"
      ],
      "metadata": {
        "colab": {
          "base_uri": "https://localhost:8080/"
        },
        "id": "UFHXHJCbhDGO",
        "outputId": "c59e9197-3967-441b-cd62-1367f00b3e1d"
      },
      "execution_count": 9,
      "outputs": [
        {
          "output_type": "stream",
          "name": "stdout",
          "text": [
            "5.4\n"
          ]
        }
      ]
    },
    {
      "cell_type": "markdown",
      "source": [
        "#Task 4"
      ],
      "metadata": {
        "id": "pjSRkpB5hhnw"
      }
    },
    {
      "cell_type": "code",
      "source": [
        "y = int(input(\"Please input a year: \"))\n",
        "\n",
        "if(y%4 == 0 and y%100 != 0) or (y%400 == 0):\n",
        "  print(y , \"is a leap year\")\n",
        "else:\n",
        "  print(y , \"is not a leap year\")"
      ],
      "metadata": {
        "colab": {
          "base_uri": "https://localhost:8080/"
        },
        "id": "5qBpGNWvhkwV",
        "outputId": "c3799fb6-5a68-488d-96b4-d20948b78a22"
      },
      "execution_count": 20,
      "outputs": [
        {
          "output_type": "stream",
          "name": "stdout",
          "text": [
            "Please input a year: 1989\n",
            "1989 is not a leap year\n"
          ]
        }
      ]
    },
    {
      "cell_type": "markdown",
      "source": [
        "#Task 5"
      ],
      "metadata": {
        "id": "06oNjmztkrA1"
      }
    },
    {
      "cell_type": "code",
      "source": [
        "l = [21, 6, 12, 57, 35, 61]\n",
        "\n",
        "l.sort()\n",
        "\n",
        "print(\"The sum of second maximum and second minimum numbers is \",l[1] + l[-2])"
      ],
      "metadata": {
        "colab": {
          "base_uri": "https://localhost:8080/"
        },
        "id": "V_NKPj5Wksmg",
        "outputId": "2f731ab1-97a3-4f6e-bfa3-5e40772e8c0b"
      },
      "execution_count": 26,
      "outputs": [
        {
          "output_type": "stream",
          "name": "stdout",
          "text": [
            "The sum of second maximum and second minimum numbers is  69\n"
          ]
        }
      ]
    }
  ]
}